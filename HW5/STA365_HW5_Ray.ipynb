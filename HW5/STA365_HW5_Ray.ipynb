{
  "nbformat": 4,
  "nbformat_minor": 0,
  "metadata": {
    "colab": {
      "provenance": []
    },
    "kernelspec": {
      "name": "python3",
      "display_name": "Python 3"
    },
    "language_info": {
      "name": "python"
    }
  },
  "cells": [
    {
      "cell_type": "code",
      "execution_count": 2,
      "metadata": {
        "id": "u3xKTYYvawpg"
      },
      "outputs": [],
      "source": [
        "import pymc as pm\n",
        "import numpy as np\n",
        "import pandas as pd\n",
        "from scipy import stats\n",
        "\n",
        "# random.seed(131)\n",
        "np.random.seed(131)"
      ]
    },
    {
      "cell_type": "markdown",
      "source": [
        "# Homework 5: Part I\n",
        "\n",
        "1. Go get data from kaggle.com and do a ***Bayesian Linear Regression*** analysis\n",
        "\n",
        "```python\n",
        "import pymc as pm; import numpy as np\n",
        "n,p=100,10; X,y=np.zeros((n,p)),np.ones((n,1))\n",
        "# Replace this made up data with your data set from kaggle...\n",
        "with pm.Model() as MLR:\n",
        "    betas = pm.MvNormal('betas', mu=np.zeros((p,1)), cov=np.eye(p), shape=(p,1))\n",
        "    sigma = pm.TruncatedNormal('sigma', mu=1, sigma=1, lower=0) # half normal\n",
        "    y = pm.Normal('y', mu=pm.math.dot(X, betas), sigma=sigma, observed=y)\n",
        "\n",
        "with MLR:\n",
        "    idata = pm.sample()\n",
        "```    \n",
        "\n",
        "2. Choose ***prior*** that are sensible: certainly you might change the ***hyperparameters***, and perhaps you can experiment with different distributional families for `sigma`...\n",
        "\n",
        "3. [Optional] Assess the performance of the MCMC and note any issues or warnings\n",
        "\n",
        "    1. Traceplots, inference (credible) intervals, effective sample sizes, energy plots, warnings and other notes... just the usual stuff they do [here](https://www.pymc.io/projects/docs/en/stable/learn/core_notebooks/pymc_overview.html#pymc-overview)\n",
        "\n",
        "4. [Optional] Perform ***Multiple Linear Regression*** diagnostics... residual plots, etc.\n"
      ],
      "metadata": {
        "id": "2g6BoPOScNp-"
      }
    },
    {
      "cell_type": "code",
      "source": [
        "# url = \"https://raw.githubusercontent.com/ray0130/STA365/main/HW5/loan_data.csv\"\n",
        "url = \"https://raw.githubusercontent.com/ray0130/STA365/main/HW5/honey_purity_dataset.csv\"\n",
        "raw_df = pd.read_csv(url)\n",
        "# n,p=100,10;\n",
        "\n",
        "df = raw_df.sample(n=1000, random_state=131)\n",
        "\n",
        "X = df[[\"Density\", \"Viscosity\", \"F\", \"G\", \"Purity\"]].values\n",
        "\n",
        "y = df[[\"Price\"]].values.reshape(-1, 1)\n",
        "\n",
        "\n",
        "n, p = X.shape\n",
        "# n = X.shape[0]\n",
        "# p = X.shape[1]\n",
        "# print(X.shape)\n",
        "# print(y.shape)\n",
        "\n",
        "# X,y=np.zeros((n,p)),np.ones((n,1))\n",
        "# Replace this made up data with your data set from kaggle...\n",
        "with pm.Model() as MLR:\n",
        "    betas = pm.MvNormal('betas', mu=np.zeros((p,1)), cov=np.eye(p), shape=(p,1))\n",
        "    sigma = pm.TruncatedNormal('sigma', mu=1, sigma=1, lower=0) # half normal\n",
        "    y = pm.Normal('y', mu=pm.math.dot(X, betas), sigma=sigma, observed=y)\n",
        "\n",
        "with MLR:\n",
        "    idata = pm.sample()\n",
        "\n",
        "\n"
      ],
      "metadata": {
        "colab": {
          "base_uri": "https://localhost:8080/",
          "height": 57
        },
        "id": "9aXhl401cIk_",
        "outputId": "0355b0b2-3944-4690-8791-d22c8ccb233a"
      },
      "execution_count": 13,
      "outputs": [
        {
          "output_type": "display_data",
          "data": {
            "text/plain": [
              "<IPython.core.display.HTML object>"
            ],
            "text/html": [
              "\n",
              "<style>\n",
              "    /* Turns off some styling */\n",
              "    progress {\n",
              "        /* gets rid of default border in Firefox and Opera. */\n",
              "        border: none;\n",
              "        /* Needs to be in here for Safari polyfill so background images work as expected. */\n",
              "        background-size: auto;\n",
              "    }\n",
              "    progress:not([value]), progress:not([value])::-webkit-progress-bar {\n",
              "        background: repeating-linear-gradient(45deg, #7e7e7e, #7e7e7e 10px, #5c5c5c 10px, #5c5c5c 20px);\n",
              "    }\n",
              "    .progress-bar-interrupted, .progress-bar-interrupted::-webkit-progress-bar {\n",
              "        background: #F44336;\n",
              "    }\n",
              "</style>\n"
            ]
          },
          "metadata": {}
        },
        {
          "output_type": "display_data",
          "data": {
            "text/plain": [
              "<IPython.core.display.HTML object>"
            ],
            "text/html": [
              "\n",
              "    <div>\n",
              "      <progress value='2000' class='' max='2000' style='width:300px; height:20px; vertical-align: middle;'></progress>\n",
              "      100.00% [2000/2000 01:08&lt;00:00 Sampling chain 0, 0 divergences]\n",
              "    </div>\n",
              "    "
            ]
          },
          "metadata": {}
        },
        {
          "output_type": "display_data",
          "data": {
            "text/plain": [
              "<IPython.core.display.HTML object>"
            ],
            "text/html": [
              "\n",
              "<style>\n",
              "    /* Turns off some styling */\n",
              "    progress {\n",
              "        /* gets rid of default border in Firefox and Opera. */\n",
              "        border: none;\n",
              "        /* Needs to be in here for Safari polyfill so background images work as expected. */\n",
              "        background-size: auto;\n",
              "    }\n",
              "    progress:not([value]), progress:not([value])::-webkit-progress-bar {\n",
              "        background: repeating-linear-gradient(45deg, #7e7e7e, #7e7e7e 10px, #5c5c5c 10px, #5c5c5c 20px);\n",
              "    }\n",
              "    .progress-bar-interrupted, .progress-bar-interrupted::-webkit-progress-bar {\n",
              "        background: #F44336;\n",
              "    }\n",
              "</style>\n"
            ]
          },
          "metadata": {}
        },
        {
          "output_type": "display_data",
          "data": {
            "text/plain": [
              "<IPython.core.display.HTML object>"
            ],
            "text/html": [
              "\n",
              "    <div>\n",
              "      <progress value='2000' class='' max='2000' style='width:300px; height:20px; vertical-align: middle;'></progress>\n",
              "      100.00% [2000/2000 01:08&lt;00:00 Sampling chain 1, 0 divergences]\n",
              "    </div>\n",
              "    "
            ]
          },
          "metadata": {}
        }
      ]
    },
    {
      "cell_type": "markdown",
      "source": [
        "# Homework 5: Part II\n",
        "    \n",
        "## Answer the following with respect to $p(\\boldsymbol \\beta |\\boldsymbol\\Sigma, \\mathbf{X},\\mathbf{y})$ on the previous slide\n",
        "    \n",
        "1. Rewrite $p(\\boldsymbol \\beta |\\boldsymbol\\Sigma, \\mathbf{X},\\mathbf{y})$ in terms of $\\sigma^2$ (no longer using $\\Sigma$) if $\\Sigma=\\sigma^2I$\n",
        "\n",
        "\\begin{align*}\n",
        "p(\\beta | \\Sigma, X, y) = \\mathcal{MVN}(E[\\beta | \\Sigma, X, y] = ([X^TX]^{-1} + \\sigma^2\\Sigma_\\beta^{-1}) (X^Ty + \\sigma^2\\Sigma_\\beta^{-1}\\beta_0), Var[\\beta | \\Sigma, X, y] = [X^TX]^{-1} + \\sigma^2\\Sigma_\\beta^{-1})\n",
        "\\end{align*}"
      ],
      "metadata": {
        "id": "y886I6vThjha"
      }
    },
    {
      "cell_type": "markdown",
      "source": [
        "2. What is $E[\\boldsymbol \\beta |\\boldsymbol\\Sigma, \\mathbf{X},\\mathbf{y}]$?\n",
        "\n",
        "\\begin{align*}\n",
        "E[\\beta | \\Sigma, X, y] = ([X^TX]^{-1} + \\sigma^2\\Sigma_\\beta^{-1}) (X^Ty + \\sigma^2\\Sigma_\\beta^{-1}\\beta_0)\n",
        "\\end{align*}"
      ],
      "metadata": {
        "id": "8UUjLMIArAvo"
      }
    },
    {
      "cell_type": "markdown",
      "source": [
        "3. What ***hyperparameters*** values (legal or illegal) would make $E[\\boldsymbol \\beta |\\boldsymbol\\Sigma, \\mathbf{X},\\mathbf{y}] = (\\mathbf{X^\\top X})^{-1}\\mathbf{X^\\top y}$?\n",
        "\n",
        "Observing the equation in (2), we can see that if either $\\sigma^2 = 0$ or $\\Sigma_\\beta^{-1} = 0$ both give us the desired equation\\\\\n",
        "\n",
        "\\begin{align*}\n",
        "\\sigma^2 = 0 \\quad \\text{or} \\quad \\Sigma_\\beta^{-1} = 0\n",
        "\\end{align*}"
      ],
      "metadata": {
        "id": "20AgYdRyrAks"
      }
    },
    {
      "cell_type": "markdown",
      "source": [
        "4. What ***hyperparameters*** values (legal or illegal) would make $E[  \\mathbf{\\hat y} = \\mathbf{X}\\boldsymbol \\beta |\\boldsymbol\\Sigma, \\mathbf{X},\\mathbf{y}] = \\mathbf{X}(\\mathbf{X^\\top X})^{-1}\\mathbf{X^\\top y}$?\n",
        "\n",
        "\\begin{align*}\n",
        "E[  \\mathbf{\\hat y} &= \\mathbf{X}\\boldsymbol \\beta |\\boldsymbol\\Sigma, \\mathbf{X},\\mathbf{y}] \\\\\n",
        "&= X E[\\hat y = \\beta | \\Sigma, X, y] = x([X^TX]^{-1} + \\sigma^2\\Sigma_{\\beta}^{-1}) (X^Ty + \\sigma^2\\Sigma_{\\beta}^{-1}\\beta_0)\\\\\n",
        "&\\text{if $\\sigma^2 = 0 \\quad \\text{or} \\quad \\Sigma_\\beta^{-1} = 0$}\\\\\n",
        "& = \\mathbf{X}(\\mathbf{X^\\top X})^{-1}\\mathbf{X^\\top y}\n",
        "\\end{align*}\n",
        "\n",
        "So the answer is the same as in (3)"
      ],
      "metadata": {
        "id": "CVt4_lYIrAZ9"
      }
    },
    {
      "cell_type": "markdown",
      "source": [
        "5. What is $\\text{Var}[\\boldsymbol \\beta |\\boldsymbol\\Sigma, \\mathbf{X},\\mathbf{y}]$?\n",
        "\n",
        "\\begin{align*}\n",
        "Var[\\beta | \\Sigma, X, y] = [X^TX]^{-1} + \\sigma^2\\Sigma_\\beta^{-1}\n",
        "\\end{align*}"
      ],
      "metadata": {
        "id": "JxzMbHwiq9Zj"
      }
    },
    {
      "cell_type": "markdown",
      "source": [
        "# Homework 5: Part III\n",
        "\n",
        "1. Go get data from kaggle.com and perform inference for a ***Bayesian Multivariate Normal Model***\n",
        "\n",
        "<SPAN STYLE=\"font-size:18.0pt\">\n",
        "\n",
        "```python\n",
        "import numpy as np; from scipy import stats\n",
        "p=10; Psi=np.eye(p); a_cov = stats.invwishart(df=p+2, scale=Psi).rvs(1)\n",
        "n=1000; y=stats.multivariate_normal(mean=np.zeros(p), cov=a_cov).rvs(size=n)\n",
        "# Replace this made up data with your data set from kaggle...\n",
        "    \n",
        "with pm.Model() as MNV_LKJ:\n",
        "    packed_L = pm.LKJCholeskyCov(\"packed_L\", n=p, eta=2.0,\n",
        "                                 sd_dist=pm.Exponential.dist(1.0, shape=2), compute_corr=False)\n",
        "    L = pm.expand_packed_triangular(p, packed_L)\n",
        "    # Sigma = pm.Deterministic('Sigma', L.dot(L.T)) # Don't use a covariance matrix parameterization\n",
        "    mu = pm.MvNormal('mu', mu=np.array(0), cov=np.eye(p), shape=p);\n",
        "    # y = pm.MvNormal('y', mu=mu, cov=Sigma, shape=(n,1), observed=y)\n",
        "    # Figure out how to parameterize this with a Cholesky factor to improve computational efficiency\n",
        "with MNV_LKJ    \n",
        "    idata = pm.sample()\n",
        "```    \n",
        "</SPAN>\n",
        "\n",
        "2. As indicated above, don't use a covariance matrix parameterization and instead figure out how to parameterize this with a ***Cholesky factor*** to improve computational efficiency. The ***Cholesky***-based formulation allows general $O(n^3)$ $\\det({\\boldsymbol \\Sigma})$ to be computed using a simple $O(n)$ product and general $O(n^3)$ ${\\boldsymbol \\Sigma}^{-1}$ to be instead evaluated with $O(n^2)$ ***backward substitution***.\n",
        "\n",
        "2. Specify ***priors*** that work: certainly you'll likely need to change the ***prior hyperparameters*** for $\\boldsymbol \\mu$ (`mu`) and $\\mathbf{R}$ (`packed_L`)...\n",
        "    1. And you could consider adjusting the ***prior*** for $\\boldsymbol \\sigma$ using `sd_dist`...\n",
        "\n",
        "3. [Optional] Assess the performance of the MCMC and note any issues\n",
        "\n",
        "    1. Traceplots, inference (credible) intervals, effective sample sizes, energy plots, warnings and other notes... just the usual stuff they do [here](https://www.pymc.io/projects/docs/en/stable/learn/core_notebooks/pymc_overview.html#pymc-overview)\n",
        "\n"
      ],
      "metadata": {
        "id": "cqEVFCm4lBWL"
      }
    },
    {
      "cell_type": "code",
      "source": [
        "\n",
        "# Using df from Part I\n",
        "\n",
        "y = df[[\"Density\", \"Viscosity\", \"F\", \"G\", \"Purity\"]].values\n",
        "n, p = y.shape\n",
        "# print(n, p, len(y))\n",
        "with pm.Model() as MNV_LKJ:\n",
        "    mu = pm.MvNormal('mu', mu=np.array(0), cov=np.eye(p), shape=p)\n",
        "    sd_dist = pm.Exponential.dist(1.0, shape=p)\n",
        "    chol, corr, sigmas  = pm.LKJCholeskyCov(\"chol_cov\", n=p, eta=2.0,\n",
        "                                 sd_dist=sd_dist, compute_corr=True)\n",
        "\n",
        "    new_y = pm.MvNormal('new_y', mu=mu, chol=chol, observed=y)\n",
        "with MNV_LKJ:\n",
        "    idata = pm.sample()"
      ],
      "metadata": {
        "colab": {
          "base_uri": "https://localhost:8080/",
          "height": 57
        },
        "id": "lFjmCOzXlDBC",
        "outputId": "cdb3f480-1950-4aa2-da5a-08c783f39318"
      },
      "execution_count": 21,
      "outputs": [
        {
          "output_type": "display_data",
          "data": {
            "text/plain": [
              "<IPython.core.display.HTML object>"
            ],
            "text/html": [
              "\n",
              "<style>\n",
              "    /* Turns off some styling */\n",
              "    progress {\n",
              "        /* gets rid of default border in Firefox and Opera. */\n",
              "        border: none;\n",
              "        /* Needs to be in here for Safari polyfill so background images work as expected. */\n",
              "        background-size: auto;\n",
              "    }\n",
              "    progress:not([value]), progress:not([value])::-webkit-progress-bar {\n",
              "        background: repeating-linear-gradient(45deg, #7e7e7e, #7e7e7e 10px, #5c5c5c 10px, #5c5c5c 20px);\n",
              "    }\n",
              "    .progress-bar-interrupted, .progress-bar-interrupted::-webkit-progress-bar {\n",
              "        background: #F44336;\n",
              "    }\n",
              "</style>\n"
            ]
          },
          "metadata": {}
        },
        {
          "output_type": "display_data",
          "data": {
            "text/plain": [
              "<IPython.core.display.HTML object>"
            ],
            "text/html": [
              "\n",
              "    <div>\n",
              "      <progress value='2000' class='' max='2000' style='width:300px; height:20px; vertical-align: middle;'></progress>\n",
              "      100.00% [2000/2000 01:39&lt;00:00 Sampling chain 0, 0 divergences]\n",
              "    </div>\n",
              "    "
            ]
          },
          "metadata": {}
        },
        {
          "output_type": "display_data",
          "data": {
            "text/plain": [
              "<IPython.core.display.HTML object>"
            ],
            "text/html": [
              "\n",
              "<style>\n",
              "    /* Turns off some styling */\n",
              "    progress {\n",
              "        /* gets rid of default border in Firefox and Opera. */\n",
              "        border: none;\n",
              "        /* Needs to be in here for Safari polyfill so background images work as expected. */\n",
              "        background-size: auto;\n",
              "    }\n",
              "    progress:not([value]), progress:not([value])::-webkit-progress-bar {\n",
              "        background: repeating-linear-gradient(45deg, #7e7e7e, #7e7e7e 10px, #5c5c5c 10px, #5c5c5c 20px);\n",
              "    }\n",
              "    .progress-bar-interrupted, .progress-bar-interrupted::-webkit-progress-bar {\n",
              "        background: #F44336;\n",
              "    }\n",
              "</style>\n"
            ]
          },
          "metadata": {}
        },
        {
          "output_type": "display_data",
          "data": {
            "text/plain": [
              "<IPython.core.display.HTML object>"
            ],
            "text/html": [
              "\n",
              "    <div>\n",
              "      <progress value='2000' class='' max='2000' style='width:300px; height:20px; vertical-align: middle;'></progress>\n",
              "      100.00% [2000/2000 01:37&lt;00:00 Sampling chain 1, 0 divergences]\n",
              "    </div>\n",
              "    "
            ]
          },
          "metadata": {}
        }
      ]
    }
  ]
}