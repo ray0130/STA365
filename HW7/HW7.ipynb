{
  "cells": [
    {
      "cell_type": "markdown",
      "metadata": {
        "id": "nDOxHi8fegoc"
      },
      "source": [
        "# Homework 8: (a) Posterior Predictive Distributions<br> and (b) Missing Data Imputation\n",
        "\n"
      ]
    },
    {
      "cell_type": "markdown",
      "metadata": {
        "id": "zetTVpJVekQ_"
      },
      "source": [
        "### 1. Describe how the posterior predictive distribution is created for mixture models\n",
        "\n",
        "We first obtain the posterior distribution using the lieklihood and the prior.\n",
        "\n",
        "Then we calculate the posterior predictive distribution by ingtegrating all possible values of the parameter in the mixture components and their associated probabilities for a new data point.\n",
        "\n",
        "Then, for each mixture, we take the weighted average of the likelihood and the posterior  distribution.\n",
        "\n",
        "Then to approximate the posterior predictive distribution,m we can sample parameter values from the posterior distributions and use them to generate predictive samples."
      ]
    },
    {
      "cell_type": "markdown",
      "metadata": {
        "id": "vPs5K9VFel_m"
      },
      "source": [
        "\n",
        "### 2. Describe how the posterior predictive distribution is created in general\n",
        "\n",
        "In general, we first obtain the posterior distribution using the likelihood and the prior. \n",
        "\n",
        "Then, to predict new data points, we obtain the posterior predictive distribution by integrating all parameter values of the likelihood of the new datapoint weighted by the posterior probabilities.\n",
        "\n",
        "Finally, we can use sampling methods to approximate and draw samples from the posterior distribution. And these samples can be used to approximate the posterior predictive distribution by sampling from the likelihood function using the sample parameter values drawn from the posterior distribution\n"
      ]
    },
    {
      "cell_type": "markdown",
      "metadata": {
        "id": "ONOf5ylLemWe"
      },
      "source": [
        "\n",
        "### 3. Have glance through [this](https://www.pymc.io/projects/examples/en/latest/case_studies/Missing_Data_Imputation.html) and then describe how, if you were doing a regression of $y$ on $X$ but $X$ had some missing values, you could perform a Bayesian analysis without throwing away the rows with missing values in $X$\n",
        "\n",
        "- **Hint: latent variables $v$ indicating the subpopulation are competely missing values that we simply treat as paramters to be inferred though posterior analysis... the same sort of thing can be done with missing values in data that need to be imputed... we should just be careful about the MCAR assumption...**\n",
        "\n",
        "We can represent the missing data points as latent variables to be estimated. \n",
        "\n",
        "Then we have a prior that is used to estimate the distribution of the missing values, along with additional parameters.\n",
        "\n",
        "THe likelihood should also be integrating over the missing values, taking into account both the observed and missing data. \n",
        "\n",
        "When doing Bayesian Inference, we can compute the posterior distribution of the parameters and the missing data given the observed data, and that can effectively update our beliefs about the missing data based on non-missing data.\n",
        "\n",
        "However, the MCAR assumption assumes that the probability of the data being missing data and observed data is independent. In other words, the missing data does not depend on the data itself and happens completely at random.\n",
        "\n",
        "This simplifies our analysis but it is often violated, so we should be careful about using this assumption and should considering using other mechanisms to account for the dependency of missing data.\n",
        "\n",
        "Then in the sampling process, the sampler can also sample the missing data based on the beliefs and the observed data to provide a distribution of the missing data. "
      ]
    },
    {
      "cell_type": "markdown",
      "metadata": {
        "id": "i6P0F1FRemqa"
      },
      "source": [
        "\n",
        "### 4. Work on your course project\n"
      ]
    },
    {
      "cell_type": "code",
      "execution_count": null,
      "metadata": {
        "id": "nXO82Fl5efPM"
      },
      "outputs": [],
      "source": []
    }
  ],
  "metadata": {
    "colab": {
      "provenance": []
    },
    "kernelspec": {
      "display_name": "Python 3",
      "name": "python3"
    },
    "language_info": {
      "name": "python"
    }
  },
  "nbformat": 4,
  "nbformat_minor": 0
}
